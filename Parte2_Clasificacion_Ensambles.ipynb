{
  "nbformat": 4,
  "nbformat_minor": 0,
  "metadata": {
    "colab": {
      "provenance": []
    },
    "kernelspec": {
      "name": "python3",
      "display_name": "Python 3"
    },
    "language_info": {
      "name": "python"
    }
  },
  "cells": [
    {
      "cell_type": "markdown",
      "source": [
        "## **Reto: Entrega 2** - Casificación, Ensambles\n",
        "### **TC4029 - Ciencia y Analítica de Datos**\n",
        "\n",
        "**Prof. María de la Paz Rico Fernández**\n",
        "\n",
        "**Prof. Julio César Galindo López**\n",
        "\n",
        "### **Equipo 124**\n",
        "**Alejandra Guadalupe Larranaga Altamirano | A01794334**\n",
        "\n",
        "**Iván Lee Cancino | A01793491**\n",
        "\n",
        "*18 - Noviembre - 2022*\n",
        "\n",
        "---\n",
        "\n",
        "\n",
        "---"
      ],
      "metadata": {
        "id": "imVCscxSrqpR"
      }
    },
    {
      "cell_type": "code",
      "execution_count": 1,
      "metadata": {
        "colab": {
          "base_uri": "https://localhost:8080/"
        },
        "id": "H4mMcpJsp81r",
        "outputId": "e0c8f333-4418-4568-b508-96b083aeca81"
      },
      "outputs": [
        {
          "output_type": "stream",
          "name": "stdout",
          "text": [
            "Mounted at /content/drive\n"
          ]
        }
      ],
      "source": [
        "from google.colab import drive\n",
        "drive.mount('/content/drive')"
      ]
    },
    {
      "cell_type": "markdown",
      "source": [
        "## Clasificación"
      ],
      "metadata": {
        "id": "0qST5v6GTapK"
      }
    },
    {
      "cell_type": "code",
      "source": [
        "import pandas as pd\n",
        "import numpy as np\n",
        "import matplotlib.pyplot as plt \n",
        "from sklearn import preprocessing"
      ],
      "metadata": {
        "id": "KcMvprRVtPNT"
      },
      "execution_count": 2,
      "outputs": []
    },
    {
      "cell_type": "markdown",
      "source": [
        "Importamos la base de datos limpia de la entrega anterior."
      ],
      "metadata": {
        "id": "hcrwcDx-TfGM"
      }
    },
    {
      "cell_type": "code",
      "source": [
        "path = '/content/drive/MyDrive/TC4029Data_Science/Proyecto_final/calidad_aguas_superf_clean.csv'"
      ],
      "metadata": {
        "id": "u5n2aFrKtY8d"
      },
      "execution_count": 3,
      "outputs": []
    },
    {
      "cell_type": "code",
      "source": [
        "df = pd.read_csv(path, index_col=0)\n",
        "df.head()"
      ],
      "metadata": {
        "colab": {
          "base_uri": "https://localhost:8080/",
          "height": 444
        },
        "id": "e3zPvtPCzQCN",
        "outputId": "44b6056a-83e8-4ab8-fbec-ccafba835409"
      },
      "execution_count": 4,
      "outputs": [
        {
          "output_type": "execute_result",
          "data": {
            "text/plain": [
              "    LONGITUD   LATITUD  DBO_mg/L  DQO_mg/L  SST_mg/L  COLI_FEC_NMP_100mL  \\\n",
              "0 -102.33911  22.24730      6.00     54.08   13.7500              1162.0   \n",
              "1 -109.84290  22.90473      2.63     27.01   10.0000              2400.0   \n",
              "2 -109.86442  22.89880      2.63     27.01   10.0000              2400.0   \n",
              "3 -109.88604  22.89609      2.63     27.01   13.9667              2400.0   \n",
              "4 -109.89657  22.87694      2.63     27.01   10.0000              2400.0   \n",
              "\n",
              "   E_COLI_NMP_100mL  OD_PORC  TOX_D_48_UT  TOX_V_15_UT  TOX_FIS_SUP_15_UT  \\\n",
              "0              98.0     68.3          1.0          1.0                1.0   \n",
              "1             424.0     68.3          1.0          1.0                1.0   \n",
              "2             424.0     68.3          1.0          1.0                1.0   \n",
              "3             424.0     68.3          1.0          1.0                1.0   \n",
              "4             424.0     68.3          1.0          1.0                1.0   \n",
              "\n",
              "  SEMAFORO    GRUPO                  Coordenadas  \n",
              "0     Rojo  LENTICO   POINT (-102.33911 22.2473)  \n",
              "1    Verde  COSTERO   POINT (-109.8429 22.90473)  \n",
              "2    Verde  COSTERO   POINT (-109.86442 22.8988)  \n",
              "3    Verde  COSTERO  POINT (-109.88604 22.89609)  \n",
              "4    Verde  COSTERO  POINT (-109.89657 22.87694)  "
            ],
            "text/html": [
              "\n",
              "  <div id=\"df-73ff9760-cf94-41df-b0b9-cc95a54f6985\">\n",
              "    <div class=\"colab-df-container\">\n",
              "      <div>\n",
              "<style scoped>\n",
              "    .dataframe tbody tr th:only-of-type {\n",
              "        vertical-align: middle;\n",
              "    }\n",
              "\n",
              "    .dataframe tbody tr th {\n",
              "        vertical-align: top;\n",
              "    }\n",
              "\n",
              "    .dataframe thead th {\n",
              "        text-align: right;\n",
              "    }\n",
              "</style>\n",
              "<table border=\"1\" class=\"dataframe\">\n",
              "  <thead>\n",
              "    <tr style=\"text-align: right;\">\n",
              "      <th></th>\n",
              "      <th>LONGITUD</th>\n",
              "      <th>LATITUD</th>\n",
              "      <th>DBO_mg/L</th>\n",
              "      <th>DQO_mg/L</th>\n",
              "      <th>SST_mg/L</th>\n",
              "      <th>COLI_FEC_NMP_100mL</th>\n",
              "      <th>E_COLI_NMP_100mL</th>\n",
              "      <th>OD_PORC</th>\n",
              "      <th>TOX_D_48_UT</th>\n",
              "      <th>TOX_V_15_UT</th>\n",
              "      <th>TOX_FIS_SUP_15_UT</th>\n",
              "      <th>SEMAFORO</th>\n",
              "      <th>GRUPO</th>\n",
              "      <th>Coordenadas</th>\n",
              "    </tr>\n",
              "  </thead>\n",
              "  <tbody>\n",
              "    <tr>\n",
              "      <th>0</th>\n",
              "      <td>-102.33911</td>\n",
              "      <td>22.24730</td>\n",
              "      <td>6.00</td>\n",
              "      <td>54.08</td>\n",
              "      <td>13.7500</td>\n",
              "      <td>1162.0</td>\n",
              "      <td>98.0</td>\n",
              "      <td>68.3</td>\n",
              "      <td>1.0</td>\n",
              "      <td>1.0</td>\n",
              "      <td>1.0</td>\n",
              "      <td>Rojo</td>\n",
              "      <td>LENTICO</td>\n",
              "      <td>POINT (-102.33911 22.2473)</td>\n",
              "    </tr>\n",
              "    <tr>\n",
              "      <th>1</th>\n",
              "      <td>-109.84290</td>\n",
              "      <td>22.90473</td>\n",
              "      <td>2.63</td>\n",
              "      <td>27.01</td>\n",
              "      <td>10.0000</td>\n",
              "      <td>2400.0</td>\n",
              "      <td>424.0</td>\n",
              "      <td>68.3</td>\n",
              "      <td>1.0</td>\n",
              "      <td>1.0</td>\n",
              "      <td>1.0</td>\n",
              "      <td>Verde</td>\n",
              "      <td>COSTERO</td>\n",
              "      <td>POINT (-109.8429 22.90473)</td>\n",
              "    </tr>\n",
              "    <tr>\n",
              "      <th>2</th>\n",
              "      <td>-109.86442</td>\n",
              "      <td>22.89880</td>\n",
              "      <td>2.63</td>\n",
              "      <td>27.01</td>\n",
              "      <td>10.0000</td>\n",
              "      <td>2400.0</td>\n",
              "      <td>424.0</td>\n",
              "      <td>68.3</td>\n",
              "      <td>1.0</td>\n",
              "      <td>1.0</td>\n",
              "      <td>1.0</td>\n",
              "      <td>Verde</td>\n",
              "      <td>COSTERO</td>\n",
              "      <td>POINT (-109.86442 22.8988)</td>\n",
              "    </tr>\n",
              "    <tr>\n",
              "      <th>3</th>\n",
              "      <td>-109.88604</td>\n",
              "      <td>22.89609</td>\n",
              "      <td>2.63</td>\n",
              "      <td>27.01</td>\n",
              "      <td>13.9667</td>\n",
              "      <td>2400.0</td>\n",
              "      <td>424.0</td>\n",
              "      <td>68.3</td>\n",
              "      <td>1.0</td>\n",
              "      <td>1.0</td>\n",
              "      <td>1.0</td>\n",
              "      <td>Verde</td>\n",
              "      <td>COSTERO</td>\n",
              "      <td>POINT (-109.88604 22.89609)</td>\n",
              "    </tr>\n",
              "    <tr>\n",
              "      <th>4</th>\n",
              "      <td>-109.89657</td>\n",
              "      <td>22.87694</td>\n",
              "      <td>2.63</td>\n",
              "      <td>27.01</td>\n",
              "      <td>10.0000</td>\n",
              "      <td>2400.0</td>\n",
              "      <td>424.0</td>\n",
              "      <td>68.3</td>\n",
              "      <td>1.0</td>\n",
              "      <td>1.0</td>\n",
              "      <td>1.0</td>\n",
              "      <td>Verde</td>\n",
              "      <td>COSTERO</td>\n",
              "      <td>POINT (-109.89657 22.87694)</td>\n",
              "    </tr>\n",
              "  </tbody>\n",
              "</table>\n",
              "</div>\n",
              "      <button class=\"colab-df-convert\" onclick=\"convertToInteractive('df-73ff9760-cf94-41df-b0b9-cc95a54f6985')\"\n",
              "              title=\"Convert this dataframe to an interactive table.\"\n",
              "              style=\"display:none;\">\n",
              "        \n",
              "  <svg xmlns=\"http://www.w3.org/2000/svg\" height=\"24px\"viewBox=\"0 0 24 24\"\n",
              "       width=\"24px\">\n",
              "    <path d=\"M0 0h24v24H0V0z\" fill=\"none\"/>\n",
              "    <path d=\"M18.56 5.44l.94 2.06.94-2.06 2.06-.94-2.06-.94-.94-2.06-.94 2.06-2.06.94zm-11 1L8.5 8.5l.94-2.06 2.06-.94-2.06-.94L8.5 2.5l-.94 2.06-2.06.94zm10 10l.94 2.06.94-2.06 2.06-.94-2.06-.94-.94-2.06-.94 2.06-2.06.94z\"/><path d=\"M17.41 7.96l-1.37-1.37c-.4-.4-.92-.59-1.43-.59-.52 0-1.04.2-1.43.59L10.3 9.45l-7.72 7.72c-.78.78-.78 2.05 0 2.83L4 21.41c.39.39.9.59 1.41.59.51 0 1.02-.2 1.41-.59l7.78-7.78 2.81-2.81c.8-.78.8-2.07 0-2.86zM5.41 20L4 18.59l7.72-7.72 1.47 1.35L5.41 20z\"/>\n",
              "  </svg>\n",
              "      </button>\n",
              "      \n",
              "  <style>\n",
              "    .colab-df-container {\n",
              "      display:flex;\n",
              "      flex-wrap:wrap;\n",
              "      gap: 12px;\n",
              "    }\n",
              "\n",
              "    .colab-df-convert {\n",
              "      background-color: #E8F0FE;\n",
              "      border: none;\n",
              "      border-radius: 50%;\n",
              "      cursor: pointer;\n",
              "      display: none;\n",
              "      fill: #1967D2;\n",
              "      height: 32px;\n",
              "      padding: 0 0 0 0;\n",
              "      width: 32px;\n",
              "    }\n",
              "\n",
              "    .colab-df-convert:hover {\n",
              "      background-color: #E2EBFA;\n",
              "      box-shadow: 0px 1px 2px rgba(60, 64, 67, 0.3), 0px 1px 3px 1px rgba(60, 64, 67, 0.15);\n",
              "      fill: #174EA6;\n",
              "    }\n",
              "\n",
              "    [theme=dark] .colab-df-convert {\n",
              "      background-color: #3B4455;\n",
              "      fill: #D2E3FC;\n",
              "    }\n",
              "\n",
              "    [theme=dark] .colab-df-convert:hover {\n",
              "      background-color: #434B5C;\n",
              "      box-shadow: 0px 1px 3px 1px rgba(0, 0, 0, 0.15);\n",
              "      filter: drop-shadow(0px 1px 2px rgba(0, 0, 0, 0.3));\n",
              "      fill: #FFFFFF;\n",
              "    }\n",
              "  </style>\n",
              "\n",
              "      <script>\n",
              "        const buttonEl =\n",
              "          document.querySelector('#df-73ff9760-cf94-41df-b0b9-cc95a54f6985 button.colab-df-convert');\n",
              "        buttonEl.style.display =\n",
              "          google.colab.kernel.accessAllowed ? 'block' : 'none';\n",
              "\n",
              "        async function convertToInteractive(key) {\n",
              "          const element = document.querySelector('#df-73ff9760-cf94-41df-b0b9-cc95a54f6985');\n",
              "          const dataTable =\n",
              "            await google.colab.kernel.invokeFunction('convertToInteractive',\n",
              "                                                     [key], {});\n",
              "          if (!dataTable) return;\n",
              "\n",
              "          const docLinkHtml = 'Like what you see? Visit the ' +\n",
              "            '<a target=\"_blank\" href=https://colab.research.google.com/notebooks/data_table.ipynb>data table notebook</a>'\n",
              "            + ' to learn more about interactive tables.';\n",
              "          element.innerHTML = '';\n",
              "          dataTable['output_type'] = 'display_data';\n",
              "          await google.colab.output.renderOutput(dataTable, element);\n",
              "          const docLink = document.createElement('div');\n",
              "          docLink.innerHTML = docLinkHtml;\n",
              "          element.appendChild(docLink);\n",
              "        }\n",
              "      </script>\n",
              "    </div>\n",
              "  </div>\n",
              "  "
            ]
          },
          "metadata": {},
          "execution_count": 4
        }
      ]
    },
    {
      "cell_type": "markdown",
      "source": [
        "###Selecciona tus variables independientes X y dependiente Y (semáforo)"
      ],
      "metadata": {
        "id": "ISnrP8Q8U4nE"
      }
    },
    {
      "cell_type": "code",
      "source": [
        "df_clas = df.copy()\n",
        "df_clas.drop(['GRUPO', 'Coordenadas'], axis=1, inplace=True)\n",
        "\n",
        "df_clas.head()"
      ],
      "metadata": {
        "colab": {
          "base_uri": "https://localhost:8080/",
          "height": 206
        },
        "id": "09o84vvXU9v7",
        "outputId": "1fee8071-3bd2-4f3e-f84b-329885fc2634"
      },
      "execution_count": 5,
      "outputs": [
        {
          "output_type": "execute_result",
          "data": {
            "text/plain": [
              "    LONGITUD   LATITUD  DBO_mg/L  DQO_mg/L  SST_mg/L  COLI_FEC_NMP_100mL  \\\n",
              "0 -102.33911  22.24730      6.00     54.08   13.7500              1162.0   \n",
              "1 -109.84290  22.90473      2.63     27.01   10.0000              2400.0   \n",
              "2 -109.86442  22.89880      2.63     27.01   10.0000              2400.0   \n",
              "3 -109.88604  22.89609      2.63     27.01   13.9667              2400.0   \n",
              "4 -109.89657  22.87694      2.63     27.01   10.0000              2400.0   \n",
              "\n",
              "   E_COLI_NMP_100mL  OD_PORC  TOX_D_48_UT  TOX_V_15_UT  TOX_FIS_SUP_15_UT  \\\n",
              "0              98.0     68.3          1.0          1.0                1.0   \n",
              "1             424.0     68.3          1.0          1.0                1.0   \n",
              "2             424.0     68.3          1.0          1.0                1.0   \n",
              "3             424.0     68.3          1.0          1.0                1.0   \n",
              "4             424.0     68.3          1.0          1.0                1.0   \n",
              "\n",
              "  SEMAFORO  \n",
              "0     Rojo  \n",
              "1    Verde  \n",
              "2    Verde  \n",
              "3    Verde  \n",
              "4    Verde  "
            ],
            "text/html": [
              "\n",
              "  <div id=\"df-b5a6f8f4-7bee-4ef8-ae30-bb2393923765\">\n",
              "    <div class=\"colab-df-container\">\n",
              "      <div>\n",
              "<style scoped>\n",
              "    .dataframe tbody tr th:only-of-type {\n",
              "        vertical-align: middle;\n",
              "    }\n",
              "\n",
              "    .dataframe tbody tr th {\n",
              "        vertical-align: top;\n",
              "    }\n",
              "\n",
              "    .dataframe thead th {\n",
              "        text-align: right;\n",
              "    }\n",
              "</style>\n",
              "<table border=\"1\" class=\"dataframe\">\n",
              "  <thead>\n",
              "    <tr style=\"text-align: right;\">\n",
              "      <th></th>\n",
              "      <th>LONGITUD</th>\n",
              "      <th>LATITUD</th>\n",
              "      <th>DBO_mg/L</th>\n",
              "      <th>DQO_mg/L</th>\n",
              "      <th>SST_mg/L</th>\n",
              "      <th>COLI_FEC_NMP_100mL</th>\n",
              "      <th>E_COLI_NMP_100mL</th>\n",
              "      <th>OD_PORC</th>\n",
              "      <th>TOX_D_48_UT</th>\n",
              "      <th>TOX_V_15_UT</th>\n",
              "      <th>TOX_FIS_SUP_15_UT</th>\n",
              "      <th>SEMAFORO</th>\n",
              "    </tr>\n",
              "  </thead>\n",
              "  <tbody>\n",
              "    <tr>\n",
              "      <th>0</th>\n",
              "      <td>-102.33911</td>\n",
              "      <td>22.24730</td>\n",
              "      <td>6.00</td>\n",
              "      <td>54.08</td>\n",
              "      <td>13.7500</td>\n",
              "      <td>1162.0</td>\n",
              "      <td>98.0</td>\n",
              "      <td>68.3</td>\n",
              "      <td>1.0</td>\n",
              "      <td>1.0</td>\n",
              "      <td>1.0</td>\n",
              "      <td>Rojo</td>\n",
              "    </tr>\n",
              "    <tr>\n",
              "      <th>1</th>\n",
              "      <td>-109.84290</td>\n",
              "      <td>22.90473</td>\n",
              "      <td>2.63</td>\n",
              "      <td>27.01</td>\n",
              "      <td>10.0000</td>\n",
              "      <td>2400.0</td>\n",
              "      <td>424.0</td>\n",
              "      <td>68.3</td>\n",
              "      <td>1.0</td>\n",
              "      <td>1.0</td>\n",
              "      <td>1.0</td>\n",
              "      <td>Verde</td>\n",
              "    </tr>\n",
              "    <tr>\n",
              "      <th>2</th>\n",
              "      <td>-109.86442</td>\n",
              "      <td>22.89880</td>\n",
              "      <td>2.63</td>\n",
              "      <td>27.01</td>\n",
              "      <td>10.0000</td>\n",
              "      <td>2400.0</td>\n",
              "      <td>424.0</td>\n",
              "      <td>68.3</td>\n",
              "      <td>1.0</td>\n",
              "      <td>1.0</td>\n",
              "      <td>1.0</td>\n",
              "      <td>Verde</td>\n",
              "    </tr>\n",
              "    <tr>\n",
              "      <th>3</th>\n",
              "      <td>-109.88604</td>\n",
              "      <td>22.89609</td>\n",
              "      <td>2.63</td>\n",
              "      <td>27.01</td>\n",
              "      <td>13.9667</td>\n",
              "      <td>2400.0</td>\n",
              "      <td>424.0</td>\n",
              "      <td>68.3</td>\n",
              "      <td>1.0</td>\n",
              "      <td>1.0</td>\n",
              "      <td>1.0</td>\n",
              "      <td>Verde</td>\n",
              "    </tr>\n",
              "    <tr>\n",
              "      <th>4</th>\n",
              "      <td>-109.89657</td>\n",
              "      <td>22.87694</td>\n",
              "      <td>2.63</td>\n",
              "      <td>27.01</td>\n",
              "      <td>10.0000</td>\n",
              "      <td>2400.0</td>\n",
              "      <td>424.0</td>\n",
              "      <td>68.3</td>\n",
              "      <td>1.0</td>\n",
              "      <td>1.0</td>\n",
              "      <td>1.0</td>\n",
              "      <td>Verde</td>\n",
              "    </tr>\n",
              "  </tbody>\n",
              "</table>\n",
              "</div>\n",
              "      <button class=\"colab-df-convert\" onclick=\"convertToInteractive('df-b5a6f8f4-7bee-4ef8-ae30-bb2393923765')\"\n",
              "              title=\"Convert this dataframe to an interactive table.\"\n",
              "              style=\"display:none;\">\n",
              "        \n",
              "  <svg xmlns=\"http://www.w3.org/2000/svg\" height=\"24px\"viewBox=\"0 0 24 24\"\n",
              "       width=\"24px\">\n",
              "    <path d=\"M0 0h24v24H0V0z\" fill=\"none\"/>\n",
              "    <path d=\"M18.56 5.44l.94 2.06.94-2.06 2.06-.94-2.06-.94-.94-2.06-.94 2.06-2.06.94zm-11 1L8.5 8.5l.94-2.06 2.06-.94-2.06-.94L8.5 2.5l-.94 2.06-2.06.94zm10 10l.94 2.06.94-2.06 2.06-.94-2.06-.94-.94-2.06-.94 2.06-2.06.94z\"/><path d=\"M17.41 7.96l-1.37-1.37c-.4-.4-.92-.59-1.43-.59-.52 0-1.04.2-1.43.59L10.3 9.45l-7.72 7.72c-.78.78-.78 2.05 0 2.83L4 21.41c.39.39.9.59 1.41.59.51 0 1.02-.2 1.41-.59l7.78-7.78 2.81-2.81c.8-.78.8-2.07 0-2.86zM5.41 20L4 18.59l7.72-7.72 1.47 1.35L5.41 20z\"/>\n",
              "  </svg>\n",
              "      </button>\n",
              "      \n",
              "  <style>\n",
              "    .colab-df-container {\n",
              "      display:flex;\n",
              "      flex-wrap:wrap;\n",
              "      gap: 12px;\n",
              "    }\n",
              "\n",
              "    .colab-df-convert {\n",
              "      background-color: #E8F0FE;\n",
              "      border: none;\n",
              "      border-radius: 50%;\n",
              "      cursor: pointer;\n",
              "      display: none;\n",
              "      fill: #1967D2;\n",
              "      height: 32px;\n",
              "      padding: 0 0 0 0;\n",
              "      width: 32px;\n",
              "    }\n",
              "\n",
              "    .colab-df-convert:hover {\n",
              "      background-color: #E2EBFA;\n",
              "      box-shadow: 0px 1px 2px rgba(60, 64, 67, 0.3), 0px 1px 3px 1px rgba(60, 64, 67, 0.15);\n",
              "      fill: #174EA6;\n",
              "    }\n",
              "\n",
              "    [theme=dark] .colab-df-convert {\n",
              "      background-color: #3B4455;\n",
              "      fill: #D2E3FC;\n",
              "    }\n",
              "\n",
              "    [theme=dark] .colab-df-convert:hover {\n",
              "      background-color: #434B5C;\n",
              "      box-shadow: 0px 1px 3px 1px rgba(0, 0, 0, 0.15);\n",
              "      filter: drop-shadow(0px 1px 2px rgba(0, 0, 0, 0.3));\n",
              "      fill: #FFFFFF;\n",
              "    }\n",
              "  </style>\n",
              "\n",
              "      <script>\n",
              "        const buttonEl =\n",
              "          document.querySelector('#df-b5a6f8f4-7bee-4ef8-ae30-bb2393923765 button.colab-df-convert');\n",
              "        buttonEl.style.display =\n",
              "          google.colab.kernel.accessAllowed ? 'block' : 'none';\n",
              "\n",
              "        async function convertToInteractive(key) {\n",
              "          const element = document.querySelector('#df-b5a6f8f4-7bee-4ef8-ae30-bb2393923765');\n",
              "          const dataTable =\n",
              "            await google.colab.kernel.invokeFunction('convertToInteractive',\n",
              "                                                     [key], {});\n",
              "          if (!dataTable) return;\n",
              "\n",
              "          const docLinkHtml = 'Like what you see? Visit the ' +\n",
              "            '<a target=\"_blank\" href=https://colab.research.google.com/notebooks/data_table.ipynb>data table notebook</a>'\n",
              "            + ' to learn more about interactive tables.';\n",
              "          element.innerHTML = '';\n",
              "          dataTable['output_type'] = 'display_data';\n",
              "          await google.colab.output.renderOutput(dataTable, element);\n",
              "          const docLink = document.createElement('div');\n",
              "          docLink.innerHTML = docLinkHtml;\n",
              "          element.appendChild(docLink);\n",
              "        }\n",
              "      </script>\n",
              "    </div>\n",
              "  </div>\n",
              "  "
            ]
          },
          "metadata": {},
          "execution_count": 5
        }
      ]
    },
    {
      "cell_type": "code",
      "source": [
        "# Dividimos X , y\n",
        "X = df_clas.drop(['SEMAFORO'], axis=1)\n",
        "y = df_clas[['SEMAFORO']]\n",
        "\n",
        "y.value_counts()"
      ],
      "metadata": {
        "id": "WWPgAoSYaPyF",
        "colab": {
          "base_uri": "https://localhost:8080/"
        },
        "outputId": "8ccf7af5-21e2-40e2-fa38-7be5cc3ad5c6"
      },
      "execution_count": 6,
      "outputs": [
        {
          "output_type": "execute_result",
          "data": {
            "text/plain": [
              "SEMAFORO\n",
              "Verde       1267\n",
              "Amarillo    1135\n",
              "Rojo        1091\n",
              "dtype: int64"
            ]
          },
          "metadata": {},
          "execution_count": 6
        }
      ]
    },
    {
      "cell_type": "markdown",
      "source": [
        "###Cambia a label encoding el semáforo"
      ],
      "metadata": {
        "id": "w_5GkaejWtsG"
      }
    },
    {
      "cell_type": "code",
      "source": [
        "le = preprocessing.LabelEncoder()\n",
        "le.fit(y['SEMAFORO'])\n",
        "\n",
        "# Verificamos la codificación de cada color\n",
        "le.transform(['Amarillo', 'Rojo', 'Verde'])"
      ],
      "metadata": {
        "colab": {
          "base_uri": "https://localhost:8080/"
        },
        "id": "SgQwZYLdzdjU",
        "outputId": "de526e83-6d01-491c-d770-ecac5b4c0172"
      },
      "execution_count": 7,
      "outputs": [
        {
          "output_type": "execute_result",
          "data": {
            "text/plain": [
              "array([0, 1, 2])"
            ]
          },
          "metadata": {},
          "execution_count": 7
        }
      ]
    },
    {
      "cell_type": "code",
      "source": [
        "# Transformamos la columna\n",
        "y['SEMAFORO'] = le.transform(y['SEMAFORO'])"
      ],
      "metadata": {
        "colab": {
          "base_uri": "https://localhost:8080/"
        },
        "id": "E0mZSUJxQw6k",
        "outputId": "dbd4f8ae-78c9-4186-d8fc-f95f36cb163f"
      },
      "execution_count": 8,
      "outputs": [
        {
          "output_type": "stream",
          "name": "stderr",
          "text": [
            "/usr/local/lib/python3.7/dist-packages/ipykernel_launcher.py:2: SettingWithCopyWarning: \n",
            "A value is trying to be set on a copy of a slice from a DataFrame.\n",
            "Try using .loc[row_indexer,col_indexer] = value instead\n",
            "\n",
            "See the caveats in the documentation: https://pandas.pydata.org/pandas-docs/stable/user_guide/indexing.html#returning-a-view-versus-a-copy\n",
            "  \n"
          ]
        }
      ]
    },
    {
      "cell_type": "markdown",
      "source": [
        "###Realiza un análisis general de las features importances a traves de decision trees o random forest."
      ],
      "metadata": {
        "id": "DGmZcUmXpDZ1"
      }
    },
    {
      "cell_type": "code",
      "source": [
        "from sklearn.ensemble import RandomForestClassifier\n",
        "from sklearn.tree import DecisionTreeClassifier\n",
        "from sklearn.model_selection import train_test_split "
      ],
      "metadata": {
        "id": "VufkFKoslLa-"
      },
      "execution_count": 9,
      "outputs": []
    },
    {
      "cell_type": "markdown",
      "source": [
        "Del clasificador **Random Forest**, podemos utilizar la variable **feature_importances_** que nos da el score de la importancia relativa de cada atributo."
      ],
      "metadata": {
        "id": "GvG5M4YlqmbR"
      }
    },
    {
      "cell_type": "code",
      "source": [
        "RF_clf = RandomForestClassifier(n_estimators=500, random_state=42)\n",
        "RF_clf.fit(X, y)\n",
        "\n",
        "for score, name in zip (RF_clf.feature_importances_, X.columns):\n",
        "  print(name, round(score, 2)) "
      ],
      "metadata": {
        "colab": {
          "base_uri": "https://localhost:8080/"
        },
        "id": "Bnyq9sh9mbqF",
        "outputId": "a8c144f0-d61e-47d2-fb64-b5f53e9d7ede"
      },
      "execution_count": 10,
      "outputs": [
        {
          "output_type": "stream",
          "name": "stderr",
          "text": [
            "/usr/local/lib/python3.7/dist-packages/ipykernel_launcher.py:2: DataConversionWarning: A column-vector y was passed when a 1d array was expected. Please change the shape of y to (n_samples,), for example using ravel().\n",
            "  \n"
          ]
        },
        {
          "output_type": "stream",
          "name": "stdout",
          "text": [
            "LONGITUD 0.08\n",
            "LATITUD 0.07\n",
            "DBO_mg/L 0.1\n",
            "DQO_mg/L 0.33\n",
            "SST_mg/L 0.06\n",
            "COLI_FEC_NMP_100mL 0.19\n",
            "E_COLI_NMP_100mL 0.12\n",
            "OD_PORC 0.04\n",
            "TOX_D_48_UT 0.0\n",
            "TOX_V_15_UT 0.0\n",
            "TOX_FIS_SUP_15_UT 0.0\n"
          ]
        }
      ]
    },
    {
      "cell_type": "markdown",
      "source": [
        "Observamos que las variables con mayor importancia para el clasificador son:\n",
        "\n",
        "* 33% - DQO_mg/L \n",
        "* 19% - COLI_FEC_NMP_100mL\n",
        "* 12% - E_COLI_NMP_100mL \n",
        "* 10% - DBO_mg/L \n",
        "\n",
        "**De lo anterior podemos interpretar que nuestro modelo tomará las concentraciones de esos contaminantes en el agua para clasificarlas en una de las categoríaas del semáforo: verde, amarillo o rojo.**"
      ],
      "metadata": {
        "id": "31TzbqSCtHjw"
      }
    },
    {
      "cell_type": "markdown",
      "source": [
        "###Selecciona las variables de mayor importancia."
      ],
      "metadata": {
        "id": "m8yJrG3JpShB"
      }
    },
    {
      "cell_type": "markdown",
      "source": [
        "Seleccionamos las siguientes variables:\n",
        "\n",
        "* **DQO_mg/L**: Demanda Quimica de Oxígeno, en miligramos por litro.\n",
        "* **COLI_FEC_NMP_100mL**: Coliformes Fecales, en numero mas probable por cien mililitros. \n",
        "* **E_COLI_NMP_100mL**: Escherichia coli, en numero mas probable por cien mililitros.\n",
        "* **DBO_mg/L**: Demanda Bioquímica de Oxígeno, en miligramos por litro."
      ],
      "metadata": {
        "id": "eSnX2zxdux6K"
      }
    },
    {
      "cell_type": "code",
      "source": [
        "Xn = X.copy()\n",
        "Xn.drop(['LONGITUD', 'LATITUD','SST_mg/L','OD_PORC',\n",
        "         'TOX_D_48_UT','TOX_V_15_UT', 'TOX_FIS_SUP_15_UT'],\n",
        "         axis=1, inplace=True \n",
        "        )\n",
        "Xn"
      ],
      "metadata": {
        "colab": {
          "base_uri": "https://localhost:8080/",
          "height": 424
        },
        "id": "FIrfxhIAXchC",
        "outputId": "aa837394-f384-4956-b09b-efc3ed1df580"
      },
      "execution_count": 11,
      "outputs": [
        {
          "output_type": "execute_result",
          "data": {
            "text/plain": [
              "      DBO_mg/L  DQO_mg/L  COLI_FEC_NMP_100mL  E_COLI_NMP_100mL\n",
              "0         6.00     54.08              1162.0              98.0\n",
              "1         2.63     27.01              2400.0             424.0\n",
              "2         2.63     27.01              2400.0             424.0\n",
              "3         2.63     27.01              2400.0             424.0\n",
              "4         2.63     27.01              2400.0             424.0\n",
              "...        ...       ...                 ...               ...\n",
              "3488      2.00     10.00              2400.0            2400.0\n",
              "3489     39.09    115.88              2400.0               4.0\n",
              "3490      4.40     87.64               240.0              15.0\n",
              "3491      2.00     35.92              2400.0              11.0\n",
              "3492      2.00     34.60              2400.0              15.0\n",
              "\n",
              "[3493 rows x 4 columns]"
            ],
            "text/html": [
              "\n",
              "  <div id=\"df-8b073680-606b-4fed-b075-fd595e13a36a\">\n",
              "    <div class=\"colab-df-container\">\n",
              "      <div>\n",
              "<style scoped>\n",
              "    .dataframe tbody tr th:only-of-type {\n",
              "        vertical-align: middle;\n",
              "    }\n",
              "\n",
              "    .dataframe tbody tr th {\n",
              "        vertical-align: top;\n",
              "    }\n",
              "\n",
              "    .dataframe thead th {\n",
              "        text-align: right;\n",
              "    }\n",
              "</style>\n",
              "<table border=\"1\" class=\"dataframe\">\n",
              "  <thead>\n",
              "    <tr style=\"text-align: right;\">\n",
              "      <th></th>\n",
              "      <th>DBO_mg/L</th>\n",
              "      <th>DQO_mg/L</th>\n",
              "      <th>COLI_FEC_NMP_100mL</th>\n",
              "      <th>E_COLI_NMP_100mL</th>\n",
              "    </tr>\n",
              "  </thead>\n",
              "  <tbody>\n",
              "    <tr>\n",
              "      <th>0</th>\n",
              "      <td>6.00</td>\n",
              "      <td>54.08</td>\n",
              "      <td>1162.0</td>\n",
              "      <td>98.0</td>\n",
              "    </tr>\n",
              "    <tr>\n",
              "      <th>1</th>\n",
              "      <td>2.63</td>\n",
              "      <td>27.01</td>\n",
              "      <td>2400.0</td>\n",
              "      <td>424.0</td>\n",
              "    </tr>\n",
              "    <tr>\n",
              "      <th>2</th>\n",
              "      <td>2.63</td>\n",
              "      <td>27.01</td>\n",
              "      <td>2400.0</td>\n",
              "      <td>424.0</td>\n",
              "    </tr>\n",
              "    <tr>\n",
              "      <th>3</th>\n",
              "      <td>2.63</td>\n",
              "      <td>27.01</td>\n",
              "      <td>2400.0</td>\n",
              "      <td>424.0</td>\n",
              "    </tr>\n",
              "    <tr>\n",
              "      <th>4</th>\n",
              "      <td>2.63</td>\n",
              "      <td>27.01</td>\n",
              "      <td>2400.0</td>\n",
              "      <td>424.0</td>\n",
              "    </tr>\n",
              "    <tr>\n",
              "      <th>...</th>\n",
              "      <td>...</td>\n",
              "      <td>...</td>\n",
              "      <td>...</td>\n",
              "      <td>...</td>\n",
              "    </tr>\n",
              "    <tr>\n",
              "      <th>3488</th>\n",
              "      <td>2.00</td>\n",
              "      <td>10.00</td>\n",
              "      <td>2400.0</td>\n",
              "      <td>2400.0</td>\n",
              "    </tr>\n",
              "    <tr>\n",
              "      <th>3489</th>\n",
              "      <td>39.09</td>\n",
              "      <td>115.88</td>\n",
              "      <td>2400.0</td>\n",
              "      <td>4.0</td>\n",
              "    </tr>\n",
              "    <tr>\n",
              "      <th>3490</th>\n",
              "      <td>4.40</td>\n",
              "      <td>87.64</td>\n",
              "      <td>240.0</td>\n",
              "      <td>15.0</td>\n",
              "    </tr>\n",
              "    <tr>\n",
              "      <th>3491</th>\n",
              "      <td>2.00</td>\n",
              "      <td>35.92</td>\n",
              "      <td>2400.0</td>\n",
              "      <td>11.0</td>\n",
              "    </tr>\n",
              "    <tr>\n",
              "      <th>3492</th>\n",
              "      <td>2.00</td>\n",
              "      <td>34.60</td>\n",
              "      <td>2400.0</td>\n",
              "      <td>15.0</td>\n",
              "    </tr>\n",
              "  </tbody>\n",
              "</table>\n",
              "<p>3493 rows × 4 columns</p>\n",
              "</div>\n",
              "      <button class=\"colab-df-convert\" onclick=\"convertToInteractive('df-8b073680-606b-4fed-b075-fd595e13a36a')\"\n",
              "              title=\"Convert this dataframe to an interactive table.\"\n",
              "              style=\"display:none;\">\n",
              "        \n",
              "  <svg xmlns=\"http://www.w3.org/2000/svg\" height=\"24px\"viewBox=\"0 0 24 24\"\n",
              "       width=\"24px\">\n",
              "    <path d=\"M0 0h24v24H0V0z\" fill=\"none\"/>\n",
              "    <path d=\"M18.56 5.44l.94 2.06.94-2.06 2.06-.94-2.06-.94-.94-2.06-.94 2.06-2.06.94zm-11 1L8.5 8.5l.94-2.06 2.06-.94-2.06-.94L8.5 2.5l-.94 2.06-2.06.94zm10 10l.94 2.06.94-2.06 2.06-.94-2.06-.94-.94-2.06-.94 2.06-2.06.94z\"/><path d=\"M17.41 7.96l-1.37-1.37c-.4-.4-.92-.59-1.43-.59-.52 0-1.04.2-1.43.59L10.3 9.45l-7.72 7.72c-.78.78-.78 2.05 0 2.83L4 21.41c.39.39.9.59 1.41.59.51 0 1.02-.2 1.41-.59l7.78-7.78 2.81-2.81c.8-.78.8-2.07 0-2.86zM5.41 20L4 18.59l7.72-7.72 1.47 1.35L5.41 20z\"/>\n",
              "  </svg>\n",
              "      </button>\n",
              "      \n",
              "  <style>\n",
              "    .colab-df-container {\n",
              "      display:flex;\n",
              "      flex-wrap:wrap;\n",
              "      gap: 12px;\n",
              "    }\n",
              "\n",
              "    .colab-df-convert {\n",
              "      background-color: #E8F0FE;\n",
              "      border: none;\n",
              "      border-radius: 50%;\n",
              "      cursor: pointer;\n",
              "      display: none;\n",
              "      fill: #1967D2;\n",
              "      height: 32px;\n",
              "      padding: 0 0 0 0;\n",
              "      width: 32px;\n",
              "    }\n",
              "\n",
              "    .colab-df-convert:hover {\n",
              "      background-color: #E2EBFA;\n",
              "      box-shadow: 0px 1px 2px rgba(60, 64, 67, 0.3), 0px 1px 3px 1px rgba(60, 64, 67, 0.15);\n",
              "      fill: #174EA6;\n",
              "    }\n",
              "\n",
              "    [theme=dark] .colab-df-convert {\n",
              "      background-color: #3B4455;\n",
              "      fill: #D2E3FC;\n",
              "    }\n",
              "\n",
              "    [theme=dark] .colab-df-convert:hover {\n",
              "      background-color: #434B5C;\n",
              "      box-shadow: 0px 1px 3px 1px rgba(0, 0, 0, 0.15);\n",
              "      filter: drop-shadow(0px 1px 2px rgba(0, 0, 0, 0.3));\n",
              "      fill: #FFFFFF;\n",
              "    }\n",
              "  </style>\n",
              "\n",
              "      <script>\n",
              "        const buttonEl =\n",
              "          document.querySelector('#df-8b073680-606b-4fed-b075-fd595e13a36a button.colab-df-convert');\n",
              "        buttonEl.style.display =\n",
              "          google.colab.kernel.accessAllowed ? 'block' : 'none';\n",
              "\n",
              "        async function convertToInteractive(key) {\n",
              "          const element = document.querySelector('#df-8b073680-606b-4fed-b075-fd595e13a36a');\n",
              "          const dataTable =\n",
              "            await google.colab.kernel.invokeFunction('convertToInteractive',\n",
              "                                                     [key], {});\n",
              "          if (!dataTable) return;\n",
              "\n",
              "          const docLinkHtml = 'Like what you see? Visit the ' +\n",
              "            '<a target=\"_blank\" href=https://colab.research.google.com/notebooks/data_table.ipynb>data table notebook</a>'\n",
              "            + ' to learn more about interactive tables.';\n",
              "          element.innerHTML = '';\n",
              "          dataTable['output_type'] = 'display_data';\n",
              "          await google.colab.output.renderOutput(dataTable, element);\n",
              "          const docLink = document.createElement('div');\n",
              "          docLink.innerHTML = docLinkHtml;\n",
              "          element.appendChild(docLink);\n",
              "        }\n",
              "      </script>\n",
              "    </div>\n",
              "  </div>\n",
              "  "
            ]
          },
          "metadata": {},
          "execution_count": 11
        }
      ]
    },
    {
      "cell_type": "markdown",
      "source": [
        "###Realiza tu clasificador, recuerda dividir los datos de manera balanceada (auxiliate de train test split)"
      ],
      "metadata": {
        "id": "AswaxtZkfWZT"
      }
    },
    {
      "cell_type": "code",
      "source": [
        "from sklearn.preprocessing import label_binarize"
      ],
      "metadata": {
        "id": "6lkMGAxAEk3A"
      },
      "execution_count": 12,
      "outputs": []
    },
    {
      "cell_type": "markdown",
      "source": [
        "Para poder crear la gráfica Precision-Recall con mas de dos clases como en el caso de nuestro semáforo, es necesario binarizar las clases utilizando **label_binarize**. Posteriormente dividimos los datos de entrenamiento y prueba."
      ],
      "metadata": {
        "id": "Yadf6NKtKdN_"
      }
    },
    {
      "cell_type": "code",
      "source": [
        "Y = label_binarize(y, classes=[0,1,2])\n",
        "\n",
        "# Dividimos los datos de entrenamiento y prueba 75/25\n",
        "X_train, X_test, y_train, y_test = train_test_split(Xn, Y, test_size = 0.25, random_state = 42)"
      ],
      "metadata": {
        "id": "_t7jdOVn3wgV"
      },
      "execution_count": 13,
      "outputs": []
    },
    {
      "cell_type": "markdown",
      "source": [
        "###Explora que clasificador es el más optimo"
      ],
      "metadata": {
        "id": "KdPNhP2L3pXC"
      }
    },
    {
      "cell_type": "code",
      "source": [
        "from sklearn import metrics\n",
        "from sklearn.metrics import ConfusionMatrixDisplay, classification_report\n",
        "from sklearn.metrics import precision_recall_curve\n",
        "from sklearn.multiclass import OneVsRestClassifier\n",
        "from sklearn.tree import export_graphviz\n",
        "from graphviz import Source "
      ],
      "metadata": {
        "id": "T2DdsHIrm9J7"
      },
      "execution_count": 14,
      "outputs": []
    },
    {
      "cell_type": "markdown",
      "source": [
        "**Decision Tree**"
      ],
      "metadata": {
        "id": "ZX2QB9mx30BS"
      }
    },
    {
      "cell_type": "markdown",
      "source": [
        "Exploramos con diferentes valores de parámetros en nuestro Decision tree\n",
        "\n",
        "Aseguramos el balanceo entre clases con el parámetro **class_weight**"
      ],
      "metadata": {
        "id": "GGjRmDXq52yo"
      }
    },
    {
      "cell_type": "code",
      "source": [
        "DT_clf1 = DecisionTreeClassifier(max_depth=4, min_samples_leaf= 6, random_state=42, class_weight='balanced')\n",
        "DT_clf2 = DecisionTreeClassifier(max_depth=5, min_samples_leaf= 5, random_state=42, class_weight='balanced')\n",
        "DT_clf3 = DecisionTreeClassifier(max_depth=5, min_samples_leaf= 4, random_state=42, class_weight='balanced')\n",
        "DT_clf4 = DecisionTreeClassifier(max_depth=5, min_samples_leaf= 3, random_state=42, class_weight='balanced')\n",
        "\n",
        "DT_clf1.fit(X_train, y_train)\n",
        "DT_clf2.fit(X_train, y_train) \n",
        "DT_clf3.fit(X_train, y_train)\n",
        "DT_clf4.fit(X_train, y_train)"
      ],
      "metadata": {
        "colab": {
          "base_uri": "https://localhost:8080/"
        },
        "id": "s8jhKe0VfZjP",
        "outputId": "2de1126a-122a-4e1e-922f-bc2b1f7dcb1d"
      },
      "execution_count": 15,
      "outputs": [
        {
          "output_type": "execute_result",
          "data": {
            "text/plain": [
              "DecisionTreeClassifier(class_weight='balanced', max_depth=5, min_samples_leaf=3,\n",
              "                       random_state=42)"
            ]
          },
          "metadata": {},
          "execution_count": 15
        }
      ]
    },
    {
      "cell_type": "markdown",
      "source": [
        "Vemos la precisión alcanzada por cada modelo con nuestros datos de prueba:"
      ],
      "metadata": {
        "id": "NAO-GyZP2vuu"
      }
    },
    {
      "cell_type": "code",
      "source": [
        "print('Accuracy de Decision Tree 1:', round(DT_clf1.score(X_train, y_train)*100, 2))\n",
        "print('Accuracy de Decision Tree 2:', round(DT_clf2.score(X_train, y_train)*100, 2))\n",
        "print('Accuracy de Decision Tree 3:', round(DT_clf3.score(X_train, y_train)*100, 2))\n",
        "print('Accuracy de Decision Tree 4:', round(DT_clf4.score(X_train, y_train)*100, 2))"
      ],
      "metadata": {
        "colab": {
          "base_uri": "https://localhost:8080/"
        },
        "id": "BKZHhq_218MY",
        "outputId": "6812d356-6873-41a7-884b-14ad50ead03f"
      },
      "execution_count": 16,
      "outputs": [
        {
          "output_type": "stream",
          "name": "stdout",
          "text": [
            "Accuracy de Decision Tree 1: 85.72\n",
            "Accuracy de Decision Tree 2: 91.52\n",
            "Accuracy de Decision Tree 3: 91.52\n",
            "Accuracy de Decision Tree 4: 91.52\n"
          ]
        }
      ]
    },
    {
      "cell_type": "markdown",
      "source": [
        "**Random Forest**"
      ],
      "metadata": {
        "id": "ed--9wFi4Ev3"
      }
    },
    {
      "cell_type": "markdown",
      "source": [
        "Exploramos con diferentes valores del parámetro **n_estimators** en nuestro clasificador Random forest\n",
        "\n",
        "Aseguramos el balanceo entre clases con el parámetro **class_weight**"
      ],
      "metadata": {
        "id": "cV_0zG5DUeOL"
      }
    },
    {
      "cell_type": "code",
      "source": [
        "RF_clf1 = RandomForestClassifier(random_state=42, n_estimators=100, min_samples_leaf=3, class_weight='balanced') \n",
        "RF_clf2 = RandomForestClassifier(random_state=42, n_estimators=300, min_samples_leaf=3, class_weight='balanced')\n",
        "RF_clf3 = RandomForestClassifier(random_state=42, n_estimators=500, min_samples_leaf=3, class_weight='balanced')\n",
        "RF_clf4 = RandomForestClassifier(random_state=42, n_estimators=600, min_samples_leaf=3, class_weight='balanced')\n",
        "\n",
        "RF_clf1.fit(X_train, y_train)\n",
        "RF_clf2.fit(X_train, y_train) \n",
        "RF_clf3.fit(X_train, y_train)\n",
        "RF_clf4.fit(X_train, y_train)"
      ],
      "metadata": {
        "colab": {
          "base_uri": "https://localhost:8080/"
        },
        "id": "ZKA3d7D-4Unz",
        "outputId": "c1084190-9b22-47dd-ed67-ccf39c780722"
      },
      "execution_count": 17,
      "outputs": [
        {
          "output_type": "execute_result",
          "data": {
            "text/plain": [
              "RandomForestClassifier(class_weight='balanced', min_samples_leaf=3,\n",
              "                       n_estimators=600, random_state=42)"
            ]
          },
          "metadata": {},
          "execution_count": 17
        }
      ]
    },
    {
      "cell_type": "code",
      "source": [
        "print('Accuracy de Random Forest 1:', round(RF_clf1.score(X_train, y_train)*100, 2))\n",
        "print('Accuracy de Random Forest 2:', round(RF_clf2.score(X_train, y_train)*100, 2))\n",
        "print('Accuracy de Random Forest 3:', round(RF_clf3.score(X_train, y_train)*100, 2))\n",
        "print('Accuracy de Random Forest 4:', round(RF_clf4.score(X_train, y_train)*100, 2))"
      ],
      "metadata": {
        "colab": {
          "base_uri": "https://localhost:8080/"
        },
        "id": "wRm9KKsg9NFC",
        "outputId": "317d75c6-bad4-416a-f621-a6d80f462249"
      },
      "execution_count": 18,
      "outputs": [
        {
          "output_type": "stream",
          "name": "stdout",
          "text": [
            "Accuracy de Random Forest 1: 92.52\n",
            "Accuracy de Random Forest 2: 92.52\n",
            "Accuracy de Random Forest 3: 92.48\n",
            "Accuracy de Random Forest 4: 92.48\n"
          ]
        }
      ]
    },
    {
      "cell_type": "markdown",
      "source": [
        "Observamos que con los datos de entrenamiento, el clasificador *Random Forest* nos da una exactitud un poco mejor que *Decision Tree*."
      ],
      "metadata": {
        "id": "yp9WNQhhaSF3"
      }
    },
    {
      "cell_type": "markdown",
      "source": [
        "###Determina el grado de exactitud a través del reporte de clasificación y análisis de la gráfica de Precision Recall."
      ],
      "metadata": {
        "id": "LTf0_BAUa5PT"
      }
    },
    {
      "cell_type": "markdown",
      "source": [
        "Los scores iniciales fueron obtenidos con los datos de entrenamiento para explorar los hyperparametros de cada modelo. \n",
        "\n",
        "Ahora obtenemos la gráfica Precision-Recall y el reporte de las principales métricas de clasificación usando **classification_report** para nuestros datos de prueba con los clasificadores seleccionados. "
      ],
      "metadata": {
        "id": "ZlOTxCMSqsmz"
      }
    },
    {
      "cell_type": "markdown",
      "source": [
        "Utilizamos **OneVsRestClassifier** de Scikit-learn para evaluar cada una de las tres clases y obtener los datos de Precision y Recall para poder graficar."
      ],
      "metadata": {
        "id": "5eqfQ_M5POaB"
      }
    },
    {
      "cell_type": "code",
      "source": [
        "DTovr = OneVsRestClassifier(DT_clf3)\n",
        "DTovr.fit(X_train, y_train)\n",
        "y_pred_probDT = DTovr.predict_proba(X_test)\n",
        "\n",
        "\n",
        "precision = dict()\n",
        "recall = dict()\n",
        "\n",
        "plt.figure(figsize=(10,8))\n",
        "for i in range(3):\n",
        "    precision[i], recall[i], _ = precision_recall_curve(y_test[:, i],\n",
        "                                                        y_pred_probDT[:, i]\n",
        "                                                        )\n",
        "    plt.plot(recall[i], precision[i], lw=2, label='class {}'.format(i))\n",
        "    \n",
        "plt.xlabel('recall')\n",
        "plt.ylabel('precision')\n",
        "plt.legend(loc='best')\n",
        "plt.title('Precision-Recall Decision Tree')\n",
        "plt.show()\n",
        "\n",
        "\n",
        "y_testDT = DT_clf3.predict(X_test) \n",
        "\n",
        "print('Accuracy de Decision Tree:', round(DT_clf3.score(X_test, y_test)*100, 2))\n",
        "print('___Reporte Decision Tree (set de prueba)___')\n",
        "print(classification_report(y_test, y_testDT, target_names=['0','1','2']), ) "
      ],
      "metadata": {
        "colab": {
          "base_uri": "https://localhost:8080/",
          "height": 745
        },
        "id": "yvY17iMJD32_",
        "outputId": "c3810bee-c233-4e5c-a7c0-1992d08496fc"
      },
      "execution_count": 19,
      "outputs": [
        {
          "output_type": "display_data",
          "data": {
            "text/plain": [
              "<Figure size 720x576 with 1 Axes>"
            ],
            "image/png": "[encoded data removed]"
          },
          "metadata": {
            "needs_background": "light"
          }
        },
        {
          "output_type": "stream",
          "name": "stdout",
          "text": [
            "Accuracy de Decision Tree: 90.5\n",
            "___Reporte Decision Tree (set de prueba)___\n",
            "              precision    recall  f1-score   support\n",
            "\n",
            "           0       0.99      0.87      0.93       300\n",
            "           1       1.00      0.83      0.91       269\n",
            "           2       0.79      1.00      0.88       305\n",
            "\n",
            "   micro avg       0.91      0.91      0.91       874\n",
            "   macro avg       0.93      0.90      0.91       874\n",
            "weighted avg       0.92      0.91      0.91       874\n",
            " samples avg       0.91      0.91      0.91       874\n",
            "\n"
          ]
        }
      ]
    },
    {
      "cell_type": "code",
      "source": [
        "RFovr = OneVsRestClassifier(RF_clf2)\n",
        "RFovr.fit(X_train, y_train)\n",
        "y_pred_probRF = RFovr.predict_proba(X_test)\n",
        "\n",
        "precision = dict()\n",
        "recall = dict()\n",
        "\n",
        "plt.figure(figsize=(10,8))\n",
        "for i in range(3):\n",
        "    precision[i], recall[i], _ = precision_recall_curve(y_test[:, i],\n",
        "                                                        y_pred_probRF[:, i]\n",
        "                                                        )\n",
        "    plt.plot(recall[i], precision[i], lw=2, label='class {}'.format(i))\n",
        "    \n",
        "plt.xlabel('recall')\n",
        "plt.ylabel('precision')\n",
        "plt.legend(loc='lower left')\n",
        "plt.title('Curva Precision-Recall Random Forest')\n",
        "plt.show()\n",
        "\n",
        "y_testRF = RF_clf2.predict(X_test) \n",
        "\n",
        "print('Accuracy de Random Forest:', round(RF_clf2.score(X_test, y_test)*100, 2))\n",
        "print('___Reporte Random Forest (set de prueba)___')\n",
        "print(classification_report(y_test, y_testRF, target_names=['0','1','2']))   "
      ],
      "metadata": {
        "colab": {
          "base_uri": "https://localhost:8080/",
          "height": 801
        },
        "id": "WSOJul6pnIxI",
        "outputId": "f309a5c0-3ad4-415c-c71e-e9baef017fd7"
      },
      "execution_count": 20,
      "outputs": [
        {
          "output_type": "display_data",
          "data": {
            "text/plain": [
              "<Figure size 720x576 with 1 Axes>"
            ],
            "image/png": "[encoded data removed]"
          },
          "metadata": {
            "needs_background": "light"
          }
        },
        {
          "output_type": "stream",
          "name": "stdout",
          "text": [
            "Accuracy de Random Forest: 90.62\n",
            "___Reporte Random Forest (set de prueba)___\n",
            "              precision    recall  f1-score   support\n",
            "\n",
            "           0       0.99      0.88      0.93       300\n",
            "           1       1.00      0.83      0.91       269\n",
            "           2       0.80      0.99      0.89       305\n",
            "\n",
            "   micro avg       0.91      0.91      0.91       874\n",
            "   macro avg       0.93      0.90      0.91       874\n",
            "weighted avg       0.93      0.91      0.91       874\n",
            " samples avg       0.91      0.91      0.91       874\n",
            "\n"
          ]
        },
        {
          "output_type": "stream",
          "name": "stderr",
          "text": [
            "/usr/local/lib/python3.7/dist-packages/sklearn/metrics/_classification.py:1318: UndefinedMetricWarning: Precision and F-score are ill-defined and being set to 0.0 in samples with no predicted labels. Use `zero_division` parameter to control this behavior.\n",
            "  _warn_prf(average, modifier, msg_start, len(result))\n"
          ]
        }
      ]
    },
    {
      "cell_type": "markdown",
      "source": [
        "Con nuestros datos de prueba, ambos modelos nos dan una precisión muy similar. De las curvas Precision-Recall observamos que para la clase 2, que representa el color Verde del semáforo, resultan menos precisos nuestros clasificadores. "
      ],
      "metadata": {
        "id": "1xlBFv-mPwMC"
      }
    },
    {
      "cell_type": "markdown",
      "source": [
        "###Visualiza los resultados del modelo o las predicciones a través de una matriz de confusión."
      ],
      "metadata": {
        "id": "cd-Q_NGpHMuX"
      }
    },
    {
      "cell_type": "code",
      "source": [
        "fig, axs = plt.subplots(figsize=(10,10))\n",
        "ConfusionMatrixDisplay.from_predictions(y_test.argmax(axis=1), y_testDT.argmax(axis=1),\n",
        "                                        display_labels=['Amarillo','Rojo','Verde'],\n",
        "                                        cmap='Oranges', ax=axs\n",
        "                                        )\n",
        "\n",
        "axs.set_title('Matriz de Confusión Decision Tree', fontsize=20)\n",
        "plt.show() "
      ],
      "metadata": {
        "colab": {
          "base_uri": "https://localhost:8080/",
          "height": 580
        },
        "id": "_QT7S8YI1xGU",
        "outputId": "00e308ed-a253-4620-830b-f7d87c82b30c"
      },
      "execution_count": 31,
      "outputs": [
        {
          "output_type": "display_data",
          "data": {
            "text/plain": [
              "<Figure size 720x720 with 2 Axes>"
            ],
            "image/png": "[encoded data removed]"
          },
          "metadata": {
            "needs_background": "light"
          }
        }
      ]
    },
    {
      "cell_type": "code",
      "source": [
        "fig, axs = plt.subplots(figsize=(10,10))\n",
        "ConfusionMatrixDisplay.from_predictions(y_test.argmax(axis=1), y_testRF.argmax(axis=1),\n",
        "                                        display_labels=['Amarillo','Rojo','Verde'],\n",
        "                                        cmap='Oranges', ax=axs\n",
        "                                        )\n",
        "\n",
        "axs.set_title('Matriz de Confusión Ranfom Forest', fontsize=20)\n",
        "plt.show() "
      ],
      "metadata": {
        "colab": {
          "base_uri": "https://localhost:8080/",
          "height": 580
        },
        "id": "S5f0E5htMywQ",
        "outputId": "d585b380-7d6c-42fe-ec09-d1ce41cce0f0"
      },
      "execution_count": 32,
      "outputs": [
        {
          "output_type": "display_data",
          "data": {
            "text/plain": [
              "<Figure size 720x720 with 2 Axes>"
            ],
            "image/png": "[encoded data removed]"
          },
          "metadata": {
            "needs_background": "light"
          }
        }
      ]
    },
    {
      "cell_type": "markdown",
      "source": [
        "Con la Matriz de confusión podemos confirmar lo observado en el reporte de clasificación y curvas de precision-recall: \n",
        "\n",
        "* Color **Verde (clase 2)**: es en donde mas se equivoca nuestro modelo. Por ejemplo, con Random Forest obtiene 303 verdaderos positivos, 42 los confunde con Rojo y 33 con Amarillo. Con Decision Tree es practicamente igual.\n",
        "\n",
        "* El color **Rojo (clase 1)**: ambos modelos clasifican correctamente todas las instancias.\n",
        "\n",
        "* Color **Amarillo (clase 0)** clasifica la mayoría de las veces correctamente con algunos erores.\n"
      ],
      "metadata": {
        "id": "xV4vExWnRvJb"
      }
    },
    {
      "cell_type": "markdown",
      "source": [
        "_ _ _\n",
        "\n",
        "_ _ _"
      ],
      "metadata": {
        "id": "w8dCuljFVOJ8"
      }
    }
  ]
}
{
  "nbformat": 4,
  "nbformat_minor": 0,
  "metadata": {
    "colab": {
      "provenance": [],
      "collapsed_sections": [],
      "toc_visible": true,
      "authorship_tag": "ABX9TyMXwxrLyhDg+P4T0tWs6rIt",
      "include_colab_link": true
    },
    "kernelspec": {
      "name": "python3",
      "display_name": "Python 3"
    },
    "language_info": {
      "name": "python"
    }
  },
  "cells": [
    {
      "cell_type": "markdown",
      "metadata": {
        "id": "view-in-github",
        "colab_type": "text"
      },
      "source": [
        "<a href=\"https://colab.research.google.com/github/PosgradoMNA/actividades-del-projecto-equipo-124/blob/main/Proyecto_final_avance_1.ipynb\" target=\"_parent\"><img src=\"https://colab.research.google.com/assets/colab-badge.svg\" alt=\"Open In Colab\"/></a>"
      ]
    },
    {
      "cell_type": "markdown",
      "source": [
        "### **Equipo 124**\n",
        "Alejandra Guadalupe Larranaga Altamirano | A01794334\n",
        "\n",
        "Iván Lee Cancino | A01793491\n",
        "\n",
        "\n",
        "---\n",
        "\n",
        "\n",
        "\n",
        "---\n",
        "\n"
      ],
      "metadata": {
        "id": "9jZD59LGkKiN"
      }
    },
    {
      "cell_type": "markdown",
      "source": [
        "### **Nombre del Conjunto de Datos:**\n",
        "Temperature Change (Global Warming, Temperature Change, Climate Change)"
      ],
      "metadata": {
        "id": "AtRrBZtshPQQ"
      }
    },
    {
      "cell_type": "markdown",
      "source": [
        "###**Orgnizacion que lo generó:**\n",
        "FAOSTAT: División de Estadística de la Organización de las Naciones Unidas para la Agricultura y la Alimentación."
      ],
      "metadata": {
        "id": "9XSB83pfiYZB"
      }
    },
    {
      "cell_type": "markdown",
      "source": [
        "### **Enlace de Internet:**\n",
        "https://www.kaggle.com/datasets/sevgisarac/temperature-change?select=Environment_Temperature_change_E_All_Data_NOFLAG.csv"
      ],
      "metadata": {
        "id": "792-7iv4jpjC"
      }
    },
    {
      "cell_type": "markdown",
      "source": [
        "### **Descripción del conjunto de datos:**\n",
        "Contiene el cambio promedio de temperaturas anómalas en la superficie terrestre con respecto a la linea base climatológica. Las estadísticas están disponibles por país de manera mensual desde el año 1961 a 2019."
      ],
      "metadata": {
        "id": "YPA-cfkHlYsM"
      }
    },
    {
      "cell_type": "markdown",
      "source": [
        "### **¿Cuáles son algunas de las preguntas de investigación que podría responder con estos datos?**\n",
        "1. La observación de temperaturas anómalas en el planeta es un fenómeno reciente?\n",
        "2. Las anomalías de temperatura se dan en todo el planeta por igual?\n",
        "3. Cuáles son las regiones o países en donde hay más anomalía de temperatura?\n",
        "4. Las temperaturas anómalas se presentan por igual a lo largo de todo el año?\n",
        "5. Los veranos son cada vez más calientes y/o los inviernos cada vez más fríos?\n",
        "6. En qué año y mes se han presentado las temperaturas más altas?\n",
        "7. En cuál estación del año se observan mas temperaturas anómalas? \n",
        "8. En promedio cuántos grados ha cambiado la temperatura del planeta?"
      ],
      "metadata": {
        "id": "jvdrgTUogMgd"
      }
    },
    {
      "cell_type": "markdown",
      "source": [
        "### **Qué actor (empresa, sector de la sociedad, organismo descentralizado, gobierno, etc.) estaría interesado en las preguntas mencionadas que identificó?**\n",
        "- Dependencias de gobierno encargadas de crear programas o políticas para el cuidado ambiental. \n",
        "- ONG’s dedicadas a la preservación y cuidado del medio ambiente.\n",
        "- Investigadores e instituciones educativas.\n"
      ],
      "metadata": {
        "id": "SXQDRZc1kUWl"
      }
    }
  ]
}